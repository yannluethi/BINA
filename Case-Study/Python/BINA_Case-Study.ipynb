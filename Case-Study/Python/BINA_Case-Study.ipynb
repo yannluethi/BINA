{
  "nbformat": 4,
  "nbformat_minor": 0,
  "metadata": {
    "colab": {
      "provenance": [],
      "toc_visible": true,
      "include_colab_link": true
    },
    "kernelspec": {
      "name": "python3",
      "display_name": "Python 3"
    },
    "language_info": {
      "name": "python"
    }
  },
  "cells": [
    {
      "cell_type": "markdown",
      "metadata": {
        "id": "view-in-github",
        "colab_type": "text"
      },
      "source": [
        "<a href=\"https://colab.research.google.com/github/yannluethi/BINA/blob/main/Case-Study/Python/BINA_Case-Study.ipynb\" target=\"_parent\"><img src=\"https://colab.research.google.com/assets/colab-badge.svg\" alt=\"Open In Colab\"/></a>"
      ]
    },
    {
      "cell_type": "markdown",
      "source": [
        "To Dos:\n",
        "\n",
        "*  Map - Fabio\n",
        "*  Verspätungen berechnen (df bereinigt, df verspaetung, df ausfall) - Allan\n",
        "* Ideen sammeln zu Plots/Darstellungen (sanbox)- Alle\n",
        " * Verspätungen pro Wochentag - Allan\n",
        " * Verspätungen pro Zuglinie - Fabio\n",
        " * Verspätungen pro Verkehrsmittel -> IR, IC etc.? - Fabio\n",
        " * Regressionsanalyse - Ist der Wochentag ein predictor für Verspätungen? - Allan\n",
        " * Verspätungen pro Tageszeit - Yann\n",
        " * Ausfälle pro Wochentag - Allan\n",
        " * Ausfälle pro Tageszeit - Yann\n",
        " * Ausfälle pro Zuglinie - Fabio\n",
        " * Wieviel Prozent der Ausfälle/Verspätungen liegen in den Schulferien - Allan\n",
        "\n",
        "Später:\n",
        "* Code bereingien (import, initalisieren, Kommentare, Einrückungen, etc.)\n",
        "* Texte / Beschreibung (Redundanzen vermeiden)\n",
        "* Collecting data -> Daten beschreiben -> df.head ()\n",
        "\n"
      ],
      "metadata": {
        "id": "I__NSp1UWdy0"
      }
    },
    {
      "cell_type": "code",
      "source": [
        "from google.colab import drive\n",
        "drive.mount('/content/drive')"
      ],
      "metadata": {
        "id": "FRzpPbTURSxX",
        "outputId": "058fcf05-b8e2-4c5e-ffe6-53061a9bf982",
        "colab": {
          "base_uri": "https://localhost:8080/",
          "height": 304
        }
      },
      "execution_count": 2,
      "outputs": [
        {
          "output_type": "error",
          "ename": "MessageError",
          "evalue": "Error: credential propagation was unsuccessful",
          "traceback": [
            "\u001b[0;31m---------------------------------------------------------------------------\u001b[0m",
            "\u001b[0;31mMessageError\u001b[0m                              Traceback (most recent call last)",
            "\u001b[0;32m<ipython-input-2-d5df0069828e>\u001b[0m in \u001b[0;36m<cell line: 2>\u001b[0;34m()\u001b[0m\n\u001b[1;32m      1\u001b[0m \u001b[0;32mfrom\u001b[0m \u001b[0mgoogle\u001b[0m\u001b[0;34m.\u001b[0m\u001b[0mcolab\u001b[0m \u001b[0;32mimport\u001b[0m \u001b[0mdrive\u001b[0m\u001b[0;34m\u001b[0m\u001b[0;34m\u001b[0m\u001b[0m\n\u001b[0;32m----> 2\u001b[0;31m \u001b[0mdrive\u001b[0m\u001b[0;34m.\u001b[0m\u001b[0mmount\u001b[0m\u001b[0;34m(\u001b[0m\u001b[0;34m'/content/drive'\u001b[0m\u001b[0;34m)\u001b[0m\u001b[0;34m\u001b[0m\u001b[0;34m\u001b[0m\u001b[0m\n\u001b[0m",
            "\u001b[0;32m/usr/local/lib/python3.10/dist-packages/google/colab/drive.py\u001b[0m in \u001b[0;36mmount\u001b[0;34m(mountpoint, force_remount, timeout_ms, readonly)\u001b[0m\n\u001b[1;32m     98\u001b[0m \u001b[0;32mdef\u001b[0m \u001b[0mmount\u001b[0m\u001b[0;34m(\u001b[0m\u001b[0mmountpoint\u001b[0m\u001b[0;34m,\u001b[0m \u001b[0mforce_remount\u001b[0m\u001b[0;34m=\u001b[0m\u001b[0;32mFalse\u001b[0m\u001b[0;34m,\u001b[0m \u001b[0mtimeout_ms\u001b[0m\u001b[0;34m=\u001b[0m\u001b[0;36m120000\u001b[0m\u001b[0;34m,\u001b[0m \u001b[0mreadonly\u001b[0m\u001b[0;34m=\u001b[0m\u001b[0;32mFalse\u001b[0m\u001b[0;34m)\u001b[0m\u001b[0;34m:\u001b[0m\u001b[0;34m\u001b[0m\u001b[0;34m\u001b[0m\u001b[0m\n\u001b[1;32m     99\u001b[0m   \u001b[0;34m\"\"\"Mount your Google Drive at the specified mountpoint path.\"\"\"\u001b[0m\u001b[0;34m\u001b[0m\u001b[0;34m\u001b[0m\u001b[0m\n\u001b[0;32m--> 100\u001b[0;31m   return _mount(\n\u001b[0m\u001b[1;32m    101\u001b[0m       \u001b[0mmountpoint\u001b[0m\u001b[0;34m,\u001b[0m\u001b[0;34m\u001b[0m\u001b[0;34m\u001b[0m\u001b[0m\n\u001b[1;32m    102\u001b[0m       \u001b[0mforce_remount\u001b[0m\u001b[0;34m=\u001b[0m\u001b[0mforce_remount\u001b[0m\u001b[0;34m,\u001b[0m\u001b[0;34m\u001b[0m\u001b[0;34m\u001b[0m\u001b[0m\n",
            "\u001b[0;32m/usr/local/lib/python3.10/dist-packages/google/colab/drive.py\u001b[0m in \u001b[0;36m_mount\u001b[0;34m(mountpoint, force_remount, timeout_ms, ephemeral, readonly)\u001b[0m\n\u001b[1;32m    131\u001b[0m   )\n\u001b[1;32m    132\u001b[0m   \u001b[0;32mif\u001b[0m \u001b[0mephemeral\u001b[0m\u001b[0;34m:\u001b[0m\u001b[0;34m\u001b[0m\u001b[0;34m\u001b[0m\u001b[0m\n\u001b[0;32m--> 133\u001b[0;31m     _message.blocking_request(\n\u001b[0m\u001b[1;32m    134\u001b[0m         \u001b[0;34m'request_auth'\u001b[0m\u001b[0;34m,\u001b[0m \u001b[0mrequest\u001b[0m\u001b[0;34m=\u001b[0m\u001b[0;34m{\u001b[0m\u001b[0;34m'authType'\u001b[0m\u001b[0;34m:\u001b[0m \u001b[0;34m'dfs_ephemeral'\u001b[0m\u001b[0;34m}\u001b[0m\u001b[0;34m,\u001b[0m \u001b[0mtimeout_sec\u001b[0m\u001b[0;34m=\u001b[0m\u001b[0;32mNone\u001b[0m\u001b[0;34m\u001b[0m\u001b[0;34m\u001b[0m\u001b[0m\n\u001b[1;32m    135\u001b[0m     )\n",
            "\u001b[0;32m/usr/local/lib/python3.10/dist-packages/google/colab/_message.py\u001b[0m in \u001b[0;36mblocking_request\u001b[0;34m(request_type, request, timeout_sec, parent)\u001b[0m\n\u001b[1;32m    174\u001b[0m       \u001b[0mrequest_type\u001b[0m\u001b[0;34m,\u001b[0m \u001b[0mrequest\u001b[0m\u001b[0;34m,\u001b[0m \u001b[0mparent\u001b[0m\u001b[0;34m=\u001b[0m\u001b[0mparent\u001b[0m\u001b[0;34m,\u001b[0m \u001b[0mexpect_reply\u001b[0m\u001b[0;34m=\u001b[0m\u001b[0;32mTrue\u001b[0m\u001b[0;34m\u001b[0m\u001b[0;34m\u001b[0m\u001b[0m\n\u001b[1;32m    175\u001b[0m   )\n\u001b[0;32m--> 176\u001b[0;31m   \u001b[0;32mreturn\u001b[0m \u001b[0mread_reply_from_input\u001b[0m\u001b[0;34m(\u001b[0m\u001b[0mrequest_id\u001b[0m\u001b[0;34m,\u001b[0m \u001b[0mtimeout_sec\u001b[0m\u001b[0;34m)\u001b[0m\u001b[0;34m\u001b[0m\u001b[0;34m\u001b[0m\u001b[0m\n\u001b[0m",
            "\u001b[0;32m/usr/local/lib/python3.10/dist-packages/google/colab/_message.py\u001b[0m in \u001b[0;36mread_reply_from_input\u001b[0;34m(message_id, timeout_sec)\u001b[0m\n\u001b[1;32m    101\u001b[0m     ):\n\u001b[1;32m    102\u001b[0m       \u001b[0;32mif\u001b[0m \u001b[0;34m'error'\u001b[0m \u001b[0;32min\u001b[0m \u001b[0mreply\u001b[0m\u001b[0;34m:\u001b[0m\u001b[0;34m\u001b[0m\u001b[0;34m\u001b[0m\u001b[0m\n\u001b[0;32m--> 103\u001b[0;31m         \u001b[0;32mraise\u001b[0m \u001b[0mMessageError\u001b[0m\u001b[0;34m(\u001b[0m\u001b[0mreply\u001b[0m\u001b[0;34m[\u001b[0m\u001b[0;34m'error'\u001b[0m\u001b[0;34m]\u001b[0m\u001b[0;34m)\u001b[0m\u001b[0;34m\u001b[0m\u001b[0;34m\u001b[0m\u001b[0m\n\u001b[0m\u001b[1;32m    104\u001b[0m       \u001b[0;32mreturn\u001b[0m \u001b[0mreply\u001b[0m\u001b[0;34m.\u001b[0m\u001b[0mget\u001b[0m\u001b[0;34m(\u001b[0m\u001b[0;34m'data'\u001b[0m\u001b[0;34m,\u001b[0m \u001b[0;32mNone\u001b[0m\u001b[0;34m)\u001b[0m\u001b[0;34m\u001b[0m\u001b[0;34m\u001b[0m\u001b[0m\n\u001b[1;32m    105\u001b[0m \u001b[0;34m\u001b[0m\u001b[0m\n",
            "\u001b[0;31mMessageError\u001b[0m: Error: credential propagation was unsuccessful"
          ]
        }
      ]
    },
    {
      "cell_type": "code",
      "execution_count": null,
      "metadata": {
        "id": "admAs4MvrhLf"
      },
      "outputs": [],
      "source": []
    },
    {
      "cell_type": "markdown",
      "source": [
        "#<font color='blue'>Verspätungen am Bahnhof Flughafen Zürich</font>\n",
        "\n",
        "### BINA - Business Intelligence & Analytics (FS24)\n",
        "![Flughafen-Zürich-Bahnhof.jpg](data:image/jpeg;base64,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)\n",
        "\n",
        "###Studierende\n",
        "&nbsp;Yann Lüthi\n",
        "\n",
        "&nbsp;Allan McGee\n",
        "\n",
        "&nbsp;Fabio Spaar\n",
        "\n",
        "###Dozent\n",
        "&nbsp;Daniel Benninger"
      ],
      "metadata": {
        "id": "PuH-8qRlroc3"
      }
    },
    {
      "cell_type": "markdown",
      "source": [
        "#Five-Step Framework - From Data to Decision\n",
        "Das Vorgehen für die vorliegende Case Study richtet sich nach der CPA Management Accounting Guideline \"From Data to Decision\". Die Guideline enthält fünf Schritte, welche eine systematische Herangehensweise und Anleitung bieten, um Daten zu analysieren, zu interpretieren und fundierte Entscheidungen zu treffen. Nachfolgend werden die fünf Schritte erläutert:\n",
        "\n",
        "* **Step 1: Defining objectives and information needs:** Definition der Fragestellung oder des Problems, das adressiert werden soll. Dies könnte sich auf ein spezifisches geschäftliches Szenario, eine Branche oder eine organisatorische Herausforderung beziehen. Bestimmen, welche spezifischen Informationen benötigt werden, um die Fragestellung zu beantworten oder das Problem zu lösen.\n",
        "* **Step 2: Collecting data:** Ermitteln welche Datenquellen verfügbar sind und genutzt werden können, um die benötigten Informationen zu sammeln. Dies könnte Unternehmensdaten, Branchenberichte, akademische Publikationen oder Datenbanken umfassen. Sammeln der Daten, wobei beachtet werden muss, dass sie relevant, aktuell und so präzise wie möglich sind.\n",
        "* **Step 3: Analyzing data:** Geeignete analytische Methoden anwenden, um die gesammelten Daten zu untersuchen. Interpretieren der Analyseergebnisse im Kontext der Case Study, um verständliche und aussagekräftige Schlussfolgerungen daraus ziehen zu können.\n",
        "* **Step 4:Presenting information:** Entwickeln einer klaren und überzeugenden Darstellung der Ergebnisse, die die wichtigsten Erkenntnisse, Schlussfolgerungen und Empfehlungen hervorhebt.\n",
        "* **Step 5: Making data-driven decision:** Formulieren konkreter Empfehlungen für Entscheidungen oder Massnahmen, die ergriffen werden sollten. Entwerfen von möglichen Umsetzungsschritten, welche zur Lösung der ursprünglichen Fragestellung oder des Problems beitragen können.\n",
        "\n",
        "Für die Bearbeitung der Case Study sind die Schritte 1-4 relevant. Entsprechend wird der Inhalt des Jupyter Notebooks nach diesen vier Schritten strukturiert.\n"
      ],
      "metadata": {
        "id": "iruVVKVdDcM2"
      }
    },
    {
      "cell_type": "markdown",
      "source": [
        "# Step 1: Defining objectives and information needs"
      ],
      "metadata": {
        "id": "El4Cje9v-6N5"
      }
    },
    {
      "cell_type": "markdown",
      "source": [
        "## Einleitung und Ausgangslage\n",
        "Die Schweizerische Bundesbahnen (SBB) gelten weltweit als eines der zuverlässigsten Bahnunternehmen. Dennoch sind Verspätungen im öffentlichen Verkehr unvermeidlich, und auch die SBB sind davon nicht ausgenommen. In diesem Kontext ist es interessant, einen genaueren Blick auf die Gründe für Verspätungen bei der SBB zu werfen und zu erfahren, wie die Bundesbahnen mit diesen Herausforderungen umgeht. Trotz ihrer hohen Pünktlichkeitsrate ist die SBB stets bestrebt, ihre Servicequalität zu verbessern.\n",
        "\n",
        "Im Kontext des Moduls Binar plant die SBB eine gründliche Analyse der Zugfahrzeiten aufgrund negativer Kunden-, bzw. Passagierrückmeldungen, um Massnahmen zur Verbesserung der Pünktlichkeit und Zuverlässigkeit abzuleiten. Speziell für den Bahnhof Flughafen Zürich sollen Analysen durchgeführt werden, um etwaige Herausforderungen zu identifizieren und die Effizienz des Fahrplans zu steigern. Die gewonnenen Erkenntnisse werden als Grundlage für mögliche Anpassungen im Fahrplan, Infrastrukturverbesserungen und Schulungen dienen, um die Zufriedenheit zu erhöhen und die Gesamterfahrung der Fahrgäste zu optimieren.\n",
        "\n",
        "Die Abfahrts- und Ankunftszeiten im Zugverkehr können durch verschiedene Faktoren beeinflusst werden, darunter Wochentage, Ferien und Jahreszeiten. Wochentage können unterschiedliche Verkehrsaufkommen hervorrufen, während Ferien und Jahreszeiten zu veränderten Reisemustern und infrastrukturellen Herausforderungen führen können. Die Analyse dieser Faktoren ist entscheidend, um Schwachstellen im Fahrplan zu identifizieren und Strategien zur Anpassung an dynamische Anforderungen zu entwickeln."
      ],
      "metadata": {
        "id": "Nw4042KwvW-g"
      }
    },
    {
      "cell_type": "markdown",
      "source": [
        "## Abgrenzung\n",
        "Die Projektgruppe legt dabei den Fokus auf den Bahnhof Flughafen Zürich. Dieser Bahnhof eigent sich gut für die Analyse, da er ein hohes Passagieraufkommen aufweist und gewisse Abhängigkeiten zum Flugverkehr aufweist."
      ],
      "metadata": {
        "id": "kaLKOfYM_B8D"
      }
    },
    {
      "cell_type": "markdown",
      "source": [
        "# Step 2: Collecting Data"
      ],
      "metadata": {
        "id": "yv5pdhmorqTM"
      }
    },
    {
      "cell_type": "markdown",
      "source": [
        "## Datengrundlage\n",
        "Für die Analyse der Fahrdaten des Bahnhofs Flughafen Zürich dient die Open-Data-Plattform Mobilität Schweiz als umfassende Datengrundlage. Diese Plattform, zugänglich unter https://opentransportdata.swiss/de/ist-daten-archiv/, stellt eine vielfältige Sammlung von Daten im Bereich der öffentlichen Mobilität in der Schweiz zur Verfügung. Um gezielt die Daten für den Bahnhof Flughafen Zürich zu extrahieren, wurde eine spezifische Auswahl vorgenommen, um ausschliesslich relevante Informationen zu erhalten.\n",
        "\n",
        "Die Datenbeschaffung erfolgte im Zeitraum des letzten Jahres (2023). Durch diese zeitliche Begrenzung wird sichergestellt, dass die Analyse auf aktuellen und relevanten Informationen basiert. Die ausgewählten Datensätze umfassen Informationen über Ankunfts- und Abfahrtszeiten, Zugverbindungen, eventuelle Verspätungen sowie weitere relevante Details, die für eine detaillierte Analyse der Pünktlichkeit am Flughafen Zürich von Bedeutung sind.\n",
        "\n",
        "Die Verwendung der Open-Data-Plattform Mobilität Schweiz ermöglicht nicht nur eine präzise und umfangreiche Datengrundlage, sondern fördert auch die Transparenz und den freien Zugang zu öffentlichen Verkehrsdaten. Dies bildet die Grundlage für eine fundierte Analyse, um mögliche Muster, Ursachen und Trends in Bezug auf Verspätungen am Bahnhof Flughafen Zürich zu identifizieren."
      ],
      "metadata": {
        "id": "5dFWpsfo_HGL"
      }
    },
    {
      "cell_type": "markdown",
      "source": [
        "## Datenaufbereitung\n",
        "Erklärtext zum Skript ExtractionFromCSV.py\n",
        "\n",
        "Benötigte Python Packages:\n",
        "\n",
        "pandas\n",
        "os\n",
        "openpyxl\n",
        "\n",
        "Quelle für dtype Spezifikation:\n",
        "https://pandas.pydata.org/pandas-docs/stable/reference/api/pandas.read_csv.html"
      ],
      "metadata": {
        "id": "EmsW_bdR1w0_"
      }
    },
    {
      "cell_type": "code",
      "source": [
        "import pandas as pd\n",
        "import os\n",
        "\n",
        "# Pfad zum Ordner mit den CSV-Dateien\n",
        "ordner_pfad = '/Ordnerpfad/Input Folder'\n",
        "\n",
        "# Definition der Datentypen, damit pd.read_csv diese richtig erkennt und einlesen kann\n",
        "datentypen = {\n",
        "    'BETRIEBSTAG': str,\n",
        "    'FAHRT_BEZEICHNER': str,\n",
        "    'BETREIBER_ID': str,\n",
        "    'BETREIBER_ABK': str,\n",
        "    'BETREIBER_NAME': str,\n",
        "    'PRODUKT_ID': str,\n",
        "    'LINIEN_ID': str,\n",
        "    'LINIEN_TEXT': str,\n",
        "    'UMLAUF_ID': str,\n",
        "    'VERKEHRSMITTEL_TEXT': str,\n",
        "    'ZUSATZFAHRT_TF': bool,\n",
        "    'FAELLT_AUS_TF': bool,\n",
        "    'BPUIC': str,\n",
        "    'HALTESTELLEN_NAME': str,\n",
        "    'ANKUNFTSZEIT': str,\n",
        "    'AN_PROGNOSE': str,\n",
        "    'AN_PROGNOSE_STATUS': str,\n",
        "    'ABFAHRTSZEIT': str,\n",
        "    'AB_PROGNOSE': str,\n",
        "    'AB_PROGNOSE_STATUS': str,\n",
        "    'DURCHFAHRT_TF': str\n",
        "}\n",
        "\n",
        "# Initialisierung eines leeren Dictionary, um die DataFrames zu speichern\n",
        "dataframes = {}\n",
        "\n",
        "\n",
        "# Durchlaufen aller Dateien im angegebenen Ordner\n",
        "for dateiname in os.listdir(ordner_pfad):\n",
        "    if dateiname.endswith('.csv'):  # Überprüfen, ob die Datei eine CSV-Datei ist\n",
        "        voller_dateipfad = os.path.join(ordner_pfad, dateiname)\n",
        "\n",
        "        # Einlesen der CSV-Datei in ein DataFrame\n",
        "        df = pd.read_csv(voller_dateipfad, sep=';' , dtype=datentypen) #Trennzeichen und Datentypen definieren\n",
        "\n",
        "        # Ersetzen Sie NA-Werte in der 'DURCHFAHRT_TF'-Spalte durch False\n",
        "        # Dies wird gemacht, weil NA-Werte zu Problemen geführt hatten. Im ganzen Datensatz ist dieser immer FALSE\n",
        "        df['DURCHFAHRT_TF'] = df['DURCHFAHRT_TF'].fillna(False)\n",
        "\n",
        "        # Entfernen der Dateiendung (.csv) vom Dateinamen, um diesen als Identifikator im Dictionary zu verwenden\n",
        "        schlüssel = dateiname[:-4]\n",
        "\n",
        "        # Hinzufügen des DataFrame zum Dictionary\n",
        "        dataframes[schlüssel] = df\n",
        "\n",
        "# Erstellen eines neuen Dictionary, um die gefilterten DataFrames zu speichern\n",
        "gefilterte_dataframes = {}\n",
        "\n",
        "for schlüssel, df in dataframes.items():\n",
        "    # Filtern nach Linien der SBB, welche am Zürich Flughafen halten\n",
        "    gefiltert = df[(df['BETREIBER_ABK'] == 'SBB') & (df['HALTESTELLEN_NAME'] == 'Zürich Flughafen')]\n",
        "\n",
        "    # Speichern des gefilterten DataFrames im neuen Dictionary\n",
        "    gefilterte_dataframes[schlüssel] = gefiltert\n",
        "\n",
        "    # Anzeigen der Anzahl der Datensätze im gefilterten DataFrame\n",
        "    anzahl_datensaetze = len(gefiltert)\n",
        "    print(f\"Anzahl der Datensätze im gefilterten DataFrame für {schlüssel}: {anzahl_datensaetze}\\n\")\n",
        "    print(\"\\n\")\n",
        "\n",
        "# Zusammenführen aller gefilterten DataFrames in einen einzigen DataFrame\n",
        "gesamter_dataframe = pd.concat(gefilterte_dataframes.values(), ignore_index=True)\n",
        "\n",
        "# Pfad, wo die Excel-Datei gespeichert werden soll\n",
        "excel_dateipfad = '/Ordnerpfad/Output Folder/ZRH_Flughafen_2023.xlsx'\n",
        "\n",
        "# Exportieren des gesamten DataFrames als Excel-Datei\n",
        "gesamter_dataframe.to_excel(excel_dateipfad, index=False)\n",
        "\n",
        "# Feedback\n",
        "print(f\"Der gesamte DataFrame wurde erfolgreich als Excel-Datei gespeichert: {excel_dateipfad}\")\n"
      ],
      "metadata": {
        "id": "j8qtYIhd11lr"
      },
      "execution_count": null,
      "outputs": []
    },
    {
      "cell_type": "markdown",
      "source": [
        "## GitHub-Integration\n",
        "GitHub bietet eine bewährte Plattform für die Versionskontrolle, die es ermöglicht Änderungen nachzuverfolgen und gemeinsam an Projekten zu arbeiten. Um für unsere Case Study die Zusammenarbeit in Google Colab zu vereinfachen wird die GitHub-Integration in Google Colab verwendet. Änderungen am Jupyter Notebook sowie an den Daten sind somit jederzeit nachvollziehbar."
      ],
      "metadata": {
        "id": "KKMTpAvy_kbR"
      }
    },
    {
      "cell_type": "code",
      "source": [
        "# Copy GIT repository to Google Colab environment\n",
        "!git clone https://github.com/yannluethi/BINA.git"
      ],
      "metadata": {
        "id": "3W4N_1-Eu6mr"
      },
      "execution_count": null,
      "outputs": []
    },
    {
      "cell_type": "code",
      "source": [
        "# Change to Data directory\n",
        "%cd BINA/Case-Study/Data"
      ],
      "metadata": {
        "id": "Dh8rTyjVS8Fb"
      },
      "execution_count": null,
      "outputs": []
    },
    {
      "cell_type": "markdown",
      "source": [
        "## Datenstruktur"
      ],
      "metadata": {
        "id": "fP89F1KTO7Kb"
      }
    },
    {
      "cell_type": "code",
      "source": [
        "# import necessary libraries\n",
        "import numpy as np\n",
        "import pandas as pd\n",
        "import matplotlib.pyplot as plt\n",
        "import folium\n",
        "import calendar\n",
        "from IPython.display import HTML\n",
        "%matplotlib inline"
      ],
      "metadata": {
        "id": "4fiZtJ0uxxXg"
      },
      "execution_count": null,
      "outputs": []
    },
    {
      "cell_type": "code",
      "source": [
        "#read file to see file structure of .excel filesof matching table ZRH_Flughafen_2023.xlsx\n",
        "sbb = pd.read_excel(\"ZRH_Flughafen_2023.xlsx\")\n",
        "sbb"
      ],
      "metadata": {
        "id": "-aePh4jzyEGm"
      },
      "execution_count": null,
      "outputs": []
    },
    {
      "cell_type": "code",
      "source": [
        "# Gib die URL der Webseite mit der Tabelle an\n",
        "url = 'https://opentransportdata.swiss/de/cookbook/ist-daten/'\n",
        "\n",
        "# Lese die Tabelle von der Webseite\n",
        "tables = pd.read_html(url)\n",
        "\n",
        "# Angenommen, die Tabelle, die du möchtest, ist die erste auf der Seite\n",
        "daten_tabelle = tables[0]\n",
        "\n",
        "# Zeige die extrahierte Tabelle an\n",
        "daten_tabelle"
      ],
      "metadata": {
        "id": "d4uhnY2aevC0"
      },
      "execution_count": null,
      "outputs": []
    },
    {
      "cell_type": "markdown",
      "source": [
        "#ERD"
      ],
      "metadata": {
        "id": "5f137F4bx6wP"
      }
    },
    {
      "cell_type": "code",
      "source": [
        "# Entitäten, Attribute und Beziehungen definieren\n",
        "entities = {\n",
        "    'Fahrten (Trip)': ['FahrtID (Trip_ID)', 'BetreiberID (Operator_ID)', 'LinienID (Line_ID)',\n",
        "                       'Zusatzfahrt (Additional_Trip)', 'Fahrt_Ausfall (Trip_Cancelled)'],\n",
        "    'Betreiber (Operator)': ['BetreiberID (Operator_ID)', 'Betreiber_Name (Operator_Name)', 'Land (Country)'],\n",
        "    'Linien (Line)': ['LinienID (Line_ID)', 'Linien_Text (Line_Text)', 'Verkehrsmittel (Transport_Means)'],\n",
        "    'Haltestellen (Stop)': ['HaltestellenID (Stop_ID)', 'Haltestellen_Name (Stop_Name)'],\n",
        "    'Ankunftszeiten (Arrival)': ['AnkunftszeitID (Arrival_ID)', 'FahrtID (Trip_ID)', 'HaltestellenID (Stop_ID)',\n",
        "                                  'Ankunftszeit (Arrival_Time)', 'Prognose (Forecast)', 'Status (Status)'],\n",
        "    'Abfahrtszeiten (Departure)': ['AbfahrtszeitID (Departure_ID)', 'FahrtID (Trip_ID)', 'HaltestellenID (Stop_ID)',\n",
        "                                    'Abfahrtszeit (Departure_Time)', 'Prognose (Forecast)', 'Status (Status)']\n",
        "}\n",
        "\n",
        "# Ausgabe der Entitäten, Attribute und Beziehungen im Textformat\n",
        "for entity, attributes in entities.items():\n",
        "    print(entity)\n",
        "    for attribute in attributes:\n",
        "        print(f\"| - {attribute}\")\n",
        "    print()"
      ],
      "metadata": {
        "id": "aP6RDUK4x-ZI"
      },
      "execution_count": null,
      "outputs": []
    },
    {
      "cell_type": "markdown",
      "source": [
        "## Zuglinien\n",
        "Auflistung der SBB Zuglinien die den Zürich Flughafen bedienen."
      ],
      "metadata": {
        "id": "hwaOlKJ6P4pn"
      }
    },
    {
      "cell_type": "code",
      "source": [
        "if 'LINIEN_TEXT' in sbb.columns:\n",
        "    # Erhalte die eindeutigen Werte der Spalte 'LINIEN_TEXT'\n",
        "    einzigartige_einträge = sbb['LINIEN_TEXT'].unique()\n",
        "\n",
        "    # Sortiere die Einträge alphabetisch\n",
        "    sortierte_einträge = sorted(einzigartige_einträge)\n",
        "\n",
        "    # Aufzählen aller einzigartigen Einträge\n",
        "    for eintrag in sortierte_einträge:\n",
        "        print(eintrag)\n",
        "else:\n",
        "    print(\"Die Spalte 'LINIEN_TEXT' wurde nicht gefunden.\")"
      ],
      "metadata": {
        "id": "moP21RMDkwak"
      },
      "execution_count": null,
      "outputs": []
    },
    {
      "cell_type": "markdown",
      "source": [
        "#Die Alternative\n",
        "\n",
        "Die alternative Vorgehensweise zur Datenverarbeitung involviert zunächst das Herunterladen grosser Datensätze vom Open Transport Data Portal ( https://opentransportdata.swiss/de/ist-daten-archiv/). Dies geschieht typischerweise über einen Batch-Prozess, wobei das CURL-Tool unter Windows verwendet werden kann. Nach dem Herunterladen werden die ZIP-Dateien batchweise entpackt, um auf die Rohdaten zuzugreifen.\n",
        "\n",
        "Anschliessend wird auf Basis der gemeinsamen Struktur der entpackten Dateien erneut ein Batch-Prozess durchgeführt, um spezifische Informationen wie Linien oder Züge herauszufiltern und in neue CSV-Dateien abzulegen. Alle aufbereiteten CSV-Dateien können dann einfach zu einem einzigen Datensatz zusammengeführt werden, indem sie gemerged werden. Dieser Schritt kann beispielsweise mit Hilfe von Tools oder Skripten durchgeführt werden.\n",
        "\n",
        "Der Vorteil dieses Ansatzes liegt darin, dass er eine direkte Verarbeitung großer Datensätze ermöglicht, die möglicherweise nicht alle auf einmal in den Arbeitsspeicher geladen werden können. Darüber hinaus erlaubt es die Nutzung von spezialisierten Tools für den Batch-Download und die Verarbeitung von Daten, was potenziell effizienter sein kann.\n",
        "\n",
        "Allerdings erfordert dieser Ansatz eine gewisse Expertise in der Verwendung von Befehlszeilentools wie CURL, Batch-Skripting und möglicherweise auch der Entwicklung von Skripten in anderen Sprachen wie Perl. Die Projektgruppe hat sich bewusst gegen diese alternative Methode entschieden. Stattdessen hat sie sich für eine einfachere Vorgehensweise entschieden, die effizienter und weniger zeitintensiv ist. Mit der gewählten Methode mussten lediglich 12 Datenpakete geschnürt werden, eins für jeden Monat, was sich manuell leicht bewerkstelligen liess. Diese überschaubare Anzahl von Datenpaketen ermöglichte es, den Prozess schnell und einfach zu handhaben, ohne auf komplexe Batch-Skripte oder Befehlszeilentools zurückgreifen zu müssen. Letztendlich erwies sich unsere gewählte Methode als effektiver und besser geeignet für unsere spezifischen Anforderungen, da sie weniger Aufwand erforderte und trotzdem die gewünschten Ergebnisse lieferte.\n"
      ],
      "metadata": {
        "id": "ijLhf8etf8rg"
      }
    },
    {
      "cell_type": "markdown",
      "source": [
        "# Step 3 & 4: Analyzing Data & Presenting Information"
      ],
      "metadata": {
        "id": "Nd1SHyRlC8nY"
      }
    },
    {
      "cell_type": "markdown",
      "source": [
        "## Berechnung der Verspätung"
      ],
      "metadata": {
        "id": "T6Y2rVwwQjqa"
      }
    },
    {
      "cell_type": "code",
      "source": [
        "import folium\n",
        "\n",
        "# Zentriere die Karte auf Bahnhof Zürich Flughafen\n",
        "map_center = [47.4477, 8.5686]\n",
        "\n",
        "# Erstelle eine leere Karte\n",
        "map_stops = folium.Map(location=map_center, zoom_start=12)\n",
        "\n",
        "# Setze Marker für Bahnhof Flughafen Zürich\n",
        "folium.Marker(\n",
        "    location=[47.4477, 8.5686],\n",
        "    icon=folium.Icon(color='red', icon='map-marker')\n",
        ").add_to(map_stops)\n",
        "\n",
        "# Iteriere durch die Zeilen der Daten und füge Marker für die Start-Haltestelle (grün) und Ziel-Haltestelle (rot) hinzu\n",
        "#for index, row in df.iterrows():\n",
        "#    if row['Destination'] == 'Start':\n",
        "#        icon_color = 'green'\n",
        "#    elif row['Destination'] == 'Ziel':\n",
        "#        icon_color = 'blue'\n",
        "#    else:\n",
        "#        icon_color = 'red'  # oder eine andere Farbe für andere Haltestellen\n",
        "#\n",
        "#    folium.Marker(\n",
        "#        location=[row['Latitude'], row['Longitude']],\n",
        "#        tooltip=row['Haltestellenname'],\n",
        "#        icon=folium.Icon(icon='map-marker', prefix='fa', color=icon_color)\n",
        "#    ).add_to(map_stops)\n",
        "\n",
        "# Zeige die Karte an\n",
        "map_stops\n",
        "\n"
      ],
      "metadata": {
        "id": "p_fVUgIszX72"
      },
      "execution_count": null,
      "outputs": []
    },
    {
      "cell_type": "code",
      "source": [
        "import folium\n",
        "import pandas as pd\n",
        "\n",
        "# Zentriere die Karte auf Bahnhof Zürich Flughafen\n",
        "map_center = [47.4477, 8.5686]\n",
        "\n",
        "# Erstelle eine leere Karte\n",
        "map_stops = folium.Map(location=map_center, zoom_start=12)\n",
        "\n",
        "# Setze Marker für Bahnhof Flughafen Zürich\n",
        "folium.Marker(\n",
        "    location=[47.4477, 8.5686],\n",
        "    icon=folium.Icon(color='red', icon='map-marker')\n",
        ").add_to(map_stops)\n",
        "\n",
        "# Lese die Daten aus Excel\n",
        "excel_file_path = '/content/Entwurf SBB Aufkommen Fernverkehr.xlsx'\n",
        "data = pd.read_excel(excel_file_path)\n",
        "\n",
        "# Überprüfe die Spaltennamen\n",
        "print(data.columns)\n",
        "\n",
        "# Iteriere durch die Daten und füge Marker hinzu\n",
        "for index, row in data.iterrows():\n",
        "    latitude = row['BreitengradZiel']  # Überprüfe und passe ggf. die Spaltennamen an\n",
        "    longitude = row['LaengengradZiel']  # Überprüfe und passe ggf. die Spaltennamen an\n",
        "\n",
        "    # Setze Marker für jeden Punkt\n",
        "    folium.Marker(\n",
        "        location=[latitude, longitude],\n",
        "        icon=folium.Icon(color='blue', icon='map-marker')\n",
        "    ).add_to(map_stops)\n",
        "\n",
        "# Zeige die Karte an\n",
        "map_stops"
      ],
      "metadata": {
        "id": "hG1PTpm9zH37"
      },
      "execution_count": null,
      "outputs": []
    },
    {
      "cell_type": "code",
      "source": [
        "import pandas as pd\n",
        "\n",
        "# Gib die URL der Webseite mit der Tabelle an\n",
        "url = 'https://www.ferienwiki.ch/ferienkalender/2023/ch'\n",
        "\n",
        "# Lese die Tabelle von der Webseite\n",
        "tables = pd.read_html(url)\n",
        "\n",
        "# Angenommen, die Tabelle, die du möchtest, ist die erste auf der Seite\n",
        "schulferien_tabelle = tables[1]\n",
        "\n",
        "# Zeige nur die gewünschten Spalten an: Kanton, Frühlingsferien, Sommerferien und Herbstferien\n",
        "selected_columns = ['Kanton', 'Frühlingsferien', 'Sommerferien', 'Herbstferien', \"Weihnachtsferien\"]\n",
        "schulferien_tabelle_filtered = schulferien_tabelle[selected_columns]\n",
        "\n",
        "# Lösche alle Einträge nach einem Komma\n",
        "schulferien_tabelle_filtered = schulferien_tabelle_filtered.applymap(lambda x: x.split(',')[0] if isinstance(x, str) else x)\n",
        "\n",
        "# Zeige die extrahierte und bereinigte Tabelle an\n",
        "schulferien_tabelle_filtered"
      ],
      "metadata": {
        "id": "eWDyEv1GsRD0"
      },
      "execution_count": null,
      "outputs": []
    },
    {
      "cell_type": "code",
      "source": [
        "# Basierend auf https://stackoverflow.com/a/1458077/1639671\n",
        "class HighlightedCalendarTable:\n",
        "    def __init__(self, highlight=[], year=2023):\n",
        "        self._highlight = highlight\n",
        "        self.year = year\n",
        "\n",
        "    def formatmonth(self, month):\n",
        "        \"\"\"\n",
        "        Return a formatted month as an HTML table.\n",
        "        \"\"\"\n",
        "        cal = calendar.Calendar()\n",
        "        month_days = cal.monthdayscalendar(self.year, month)\n",
        "        month_name = calendar.month_name[month]\n",
        "\n",
        "        html_table = f\"<h2>{month_name} {self.year}</h2>\"\n",
        "        html_table += \"<table>\"\n",
        "        html_table += \"<tr><th>Mo</th><th>Tu</th><th>We</th><th>Th</th><th>Fr</th><th>Sa</th><th>Su</th></tr>\"\n",
        "\n",
        "        for week in month_days:\n",
        "            html_table += \"<tr>\"\n",
        "            for day in week:\n",
        "                if day == 0:\n",
        "                    html_table += \"<td></td>\"\n",
        "                elif day in self._highlight:\n",
        "                    html_table += f'<td bgcolor=\"yellow\">{day}</td>'\n",
        "                else:\n",
        "                    html_table += f'<td>{day}</td>'\n",
        "            html_table += \"</tr>\"\n",
        "\n",
        "        html_table += \"</table>\"\n",
        "        return html_table\n",
        "\n",
        "# Dictionary für die Highlights pro Monat\n",
        "highlights_per_month = {\n",
        "    1: range(0, 0),   # Jan\n",
        "    2: range(0, 0),      # Feb\n",
        "    3: range(27, 32),    # Mär\n",
        "    4: range(1, 31),   # Apr\n",
        "    5: range(1, 20),      # Mai\n",
        "    6: range(0, 0),    # Jun\n",
        "    7: range(1, 32),   # Jul\n",
        "    8: range(1, 24),      # Aug\n",
        "    9: range(23, 32),    # Sep\n",
        "    10: range(1, 30),   # Okt\n",
        "    11: range(0, 0),      # Nov\n",
        "    12: range(0, 0),    # Dez\n",
        "}\n",
        "\n",
        "# HTML für den gesamten Kalender\n",
        "html_calendar = \"<table><tr>\"\n",
        "\n",
        "# Schleife über alle zwölf Monate des Jahres\n",
        "for month in range(1, 13):\n",
        "    # Holen der Highlights für den aktuellen Monat\n",
        "    highlight = highlights_per_month.get(month, [])\n",
        "    # Hinzufügen des HTML-Codes für den aktuellen Monat zum Gesamtkalender\n",
        "    calendar_table = HighlightedCalendarTable(highlight=highlight)\n",
        "    html_calendar += f\"<td>{calendar_table.formatmonth(month)}</td>\"\n",
        "\n",
        "html_calendar += \"</tr></table>\"\n",
        "\n",
        "# Anzeigen des HTML-Kalenders\n",
        "HTML(html_calendar)"
      ],
      "metadata": {
        "id": "QFASfwXjhVTv"
      },
      "execution_count": null,
      "outputs": []
    },
    {
      "cell_type": "markdown",
      "source": [
        "#Fazit und Ausblick\n",
        "\n",
        "Lorem ipsum dolor sit amet, consetetur sadipscing elitr, sed diam nonumy eirmod tempor invidunt ut labore et dolore magna aliquyam erat, sed diam voluptua. At vero eos et accusam et justo duo dolores et ea rebum. Stet clita kasd gubergren, no sea takimata sanctus est Lorem ipsum dolor sit amet. Lorem ipsum dolor sit amet, consetetur sadipscing elitr, sed diam nonumy eirmod tempor invidunt ut labore et dolore magna aliquyam erat, sed diam voluptua. At vero eos et accusam et justo duo dolores et ea rebum. Stet clita kasd gubergren, no sea takimata sanctus est Lorem ipsum dolor sit amet."
      ],
      "metadata": {
        "id": "K7oug8WNq4z3"
      }
    }
  ]
}